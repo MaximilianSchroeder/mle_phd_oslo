{
 "cells": [
  {
   "cell_type": "markdown",
   "id": "3010bf3d",
   "metadata": {},
   "source": [
    "# Recording of class\n",
    "Background: people join from Americas/East Asia\n",
    "\n",
    "Solution: recording of class\n",
    "- Will be put on secret youtube links - not searchable\n",
    "- Delete mid June\n",
    "\n",
    "Consent: via poll"
   ]
  },
  {
   "cell_type": "markdown",
   "id": "777f9f09",
   "metadata": {
    "slideshow": {
     "slide_type": "slide"
    }
   },
   "source": [
    "# Session 4:\n",
    "## Unsupervised ML and algorithm audits\n",
    "*Andreas Bjerre-Nielsen*"
   ]
  },
  {
   "cell_type": "markdown",
   "id": "238caebb",
   "metadata": {
    "slideshow": {
     "slide_type": "slide"
    }
   },
   "source": [
    "# Agenda\n",
    "1. [Unsupervised learning](#Unsupervised-learning)\n",
    "  1. [Principal components](#Principal-components)\n",
    "  1. [Latent Direchlet Allocation](#Latent-Direchlet-Allocation)  \n",
    "  1. [Clustering techniques](#Clustering-techniques)\n",
    "1. [Algorithmic audits](#Algorithmic-audits)\n",
    "  1. [Transparency](#Transparency)\n",
    "  1. [Fairness](#Fairness)"
   ]
  },
  {
   "cell_type": "markdown",
   "id": "e5828425",
   "metadata": {
    "slideshow": {
     "slide_type": "slide"
    }
   },
   "source": [
    "# Unsupervised learning"
   ]
  },
  {
   "cell_type": "markdown",
   "id": "ebd2e256",
   "metadata": {
    "slideshow": {
     "slide_type": "slide"
    }
   },
   "source": [
    "## Learning problems\n",
    "How does **unsupervised** learning differ from supervised?\n",
    "\n",
    "- Supervised learning uses target variable, $y$, unsupervised does not\n",
    "\n",
    "Examples of method: \n",
    "- Principal Components Analysis (PCA): **Unsupervised** method to represent data in independent vectors according to order of importance\n",
    "- Linear Discriminant Analysis: similar to PCA but **supervised** - representations is found according to target $y$"
   ]
  },
  {
   "cell_type": "markdown",
   "id": "79cc7bf5",
   "metadata": {
    "slideshow": {
     "slide_type": "slide"
    }
   },
   "source": [
    "## Learning problems\n",
    "Why should we care about **unsupervised**?\n",
    "\n",
    "- Can be combined with supervised in many ways to provide very powerful representations of data\n",
    "- Supervised learning can happen faster if we know structure of the data e.g. from using unsupervised. \n"
   ]
  },
  {
   "cell_type": "markdown",
   "id": "2dd13df8",
   "metadata": {
    "slideshow": {
     "slide_type": "slide"
    }
   },
   "source": [
    "## Dimensionality reduction\n",
    "Many datasets have enormous feature spaces\n",
    "(i.e. many dimensions)\n",
    "- Often there is high\n",
    "correlation between features\n",
    "- Goal: represent data\n",
    "in fewer features\n",
    "without losing too much\n",
    "variance\n",
    "- Useful and common in applied micro\n",
    "\n",
    "Methods: dimensionality reduction\n",
    "\n",
    "Examples of techniques:\n",
    "- Principal Components Analysis (PCA)\n",
    "- Latent Dirichlet Allocation (LDA)"
   ]
  },
  {
   "cell_type": "markdown",
   "id": "1e3811c3",
   "metadata": {
    "slideshow": {
     "slide_type": "slide"
    }
   },
   "source": [
    "## Dimensionality reduction\n",
    "\n",
    "Why should we use dimensionality reduction?\n",
    "\n",
    "Advantages:\n",
    "1. Often enables visualization of very highdimensional data\n",
    "2. Less data to store\n",
    "3. Can improve predictive performance by\n",
    "reducing curse of dimensionality problems\n",
    "\n",
    "Disadvantages:\n",
    "1. Features are harder/impossible to interpret (transparency)\n",
    "2. We lose some variance/information"
   ]
  },
  {
   "cell_type": "markdown",
   "id": "8479b756",
   "metadata": {
    "slideshow": {
     "slide_type": "slide"
    }
   },
   "source": [
    "## Clustering\n",
    "\n",
    "Suppose we want to assign our data into latent classes, many ways parametric and non-parametric. \n",
    "- Not very common in economics\n",
    "- Two overall approaches\n",
    "  - Parametric: K-Means, C-Means, Gaussian mixture, ...\n",
    "    - Choosing number of cluster\n",
    "  - Non-parametric: DBSCAN, Linkage-based\n",
    "    - Choosing distance threshold"
   ]
  },
  {
   "cell_type": "markdown",
   "id": "05d8e445",
   "metadata": {
    "slideshow": {
     "slide_type": "slide"
    }
   },
   "source": [
    "# Principal components"
   ]
  },
  {
   "cell_type": "markdown",
   "id": "b67db9b1",
   "metadata": {
    "slideshow": {
     "slide_type": "slide"
    }
   },
   "source": [
    "## PCA \n",
    "\n",
    "Goal: want to compute the $K\\times K$ matrix $W$ such $z=xW$ \n",
    "- $z_1,..,z_K$ are independent and each component explains as much variation as possible\n",
    "\n",
    "Solution: eigenvectors for covariance matrix of standardized features\n"
   ]
  },
  {
   "cell_type": "markdown",
   "id": "e02de925",
   "metadata": {
    "slideshow": {
     "slide_type": "slide"
    }
   },
   "source": [
    "## PCA \n",
    "\n",
    "How does the components from PCA look? Example two principal components:\n",
    "\n",
    "<center><img src='https://github.com/rasbt/python-machine-learning-book-2nd-edition/raw/master/code/ch05/images/05_01.png' alt=\"Drawing\" style=\"width: 600px;\"/></center>\n",
    "\n",
    "(Image from [Raschka & Mirjalili, 2017](https://github.com/rasbt/python-machine-learning-book-2nd-edition))"
   ]
  },
  {
   "cell_type": "markdown",
   "id": "5530fa44",
   "metadata": {
    "slideshow": {
     "slide_type": "slide"
    }
   },
   "source": [
    "## PCA application\n"
   ]
  },
  {
   "cell_type": "code",
   "execution_count": 2,
   "id": "c4ccea48",
   "metadata": {},
   "outputs": [
    {
     "data": {
      "image/png": "[encoded data removed]",
      "text/plain": [
       "<Figure size 432x288 with 1 Axes>"
      ]
     },
     "metadata": {
      "needs_background": "light"
     },
     "output_type": "display_data"
    }
   ],
   "source": [
    "import numpy as np\n",
    "import pandas as pd\n",
    "import seaborn as sns\n",
    "\n",
    "iris = sns.load_dataset('iris')\n",
    "sns.scatterplot(x=iris.sepal_length, y=iris.petal_length, hue=iris.species)\n",
    "X = iris.iloc[:, :4].values \n",
    "y = np.where(iris.species=='setosa', 1, -1) # convert to 1 for setosa, -1 for versicolor"
   ]
  },
  {
   "cell_type": "markdown",
   "id": "a438e520",
   "metadata": {
    "slideshow": {
     "slide_type": "slide"
    }
   },
   "source": [
    "## PCA application\n",
    "Manual computation"
   ]
  },
  {
   "cell_type": "code",
   "execution_count": 101,
   "id": "a8c1c7e7",
   "metadata": {},
   "outputs": [],
   "source": [
    "from sklearn.preprocessing import StandardScaler\n",
    "\n",
    "# compute eigen vectors\n",
    "X_scale = StandardScaler().fit_transform(X)\n",
    "eig_vals, eig_vecs = np.linalg.eig(X_scale.T.dot(X_scale))\n",
    "\n",
    "# sort eigenvectors\n",
    "eig_vals, eig_vecs = tuple(zip(*sorted(zip(eig_vals, eig_vecs), \n",
    "                                       key=lambda t: t[0], reverse=True)))\n",
    "\n",
    "W_manual = np.array(eig_vecs)\n",
    "Z_manual = X_scale.dot(W_manual)"
   ]
  },
  {
   "cell_type": "markdown",
   "id": "561f56f3",
   "metadata": {
    "slideshow": {
     "slide_type": "slide"
    }
   },
   "source": [
    "## PCA application\n",
    "Implementation as a pipe"
   ]
  },
  {
   "cell_type": "code",
   "execution_count": 103,
   "id": "a6bd732c",
   "metadata": {},
   "outputs": [],
   "source": [
    "from sklearn.pipeline import make_pipeline\n",
    "from sklearn.decomposition import PCA\n",
    "\n",
    "pipe_pca = make_pipeline(StandardScaler(), PCA(n_components=4))\n",
    "Z_pipe = pipe_pca.fit_transform(X)\n",
    "W_pipe = pipe_pca.steps[1][1].components_.T"
   ]
  },
  {
   "cell_type": "markdown",
   "id": "8294e38b",
   "metadata": {
    "slideshow": {
     "slide_type": "slide"
    }
   },
   "source": [
    "## PCA implementation\n",
    "\n",
    "How many principal components should we use? Two ways:\n",
    "- Choose as hyperparameter in supervised\n",
    "- Choose using \"elbow\" method:\n",
    "\n",
    "\n",
    "<center><img src='https://github.com/rasbt/python-machine-learning-book-2nd-edition/raw/master/code/ch05/images/05_02.png' alt=\"Drawing\" style=\"width: 500px;\"/></center>\n",
    "\n",
    "(Image from [Raschka & Mirjalili, 2017](https://github.com/rasbt/python-machine-learning-book-2nd-edition))"
   ]
  },
  {
   "cell_type": "markdown",
   "id": "e346b5fd",
   "metadata": {
    "slideshow": {
     "slide_type": "slide"
    }
   },
   "source": [
    "# Latent Direchlet Allocation\n",
    "\n"
   ]
  },
  {
   "cell_type": "markdown",
   "id": "c7f0ca26",
   "metadata": {
    "slideshow": {
     "slide_type": "slide"
    }
   },
   "source": [
    "## LDA - background\n",
    "\n",
    "Situation: we have many documents that we want to sort \n",
    "\n",
    "Idea: infer belonging to different topics (latent components) of document\n",
    "\n",
    "Why? \n",
    "- Measure broadly the content of text.\n",
    "  - E.g. what are the topic people discussing on social media, parlament \n",
    "  - Powerful if combined with event analysis"
   ]
  },
  {
   "cell_type": "markdown",
   "id": "14a5e367",
   "metadata": {
    "slideshow": {
     "slide_type": "slide"
    }
   },
   "source": [
    "## LDA - background\n",
    "\n",
    "Situation: we have many documents that we want to sort \n",
    "\n",
    "Idea: infer belonging to different topics (latent components) of document\n",
    "\n",
    "How is this useful? \n"
   ]
  },
  {
   "cell_type": "markdown",
   "id": "db947578",
   "metadata": {
    "slideshow": {
     "slide_type": "fragment"
    }
   },
   "source": [
    "- Measure broadly the content of text.\n",
    "  - E.g. what are the topic people discussing on social media, parlament \n",
    "  - Powerful e.g. if combined with event causal analysis, e.g. event studies"
   ]
  },
  {
   "cell_type": "markdown",
   "id": "6a3760b4",
   "metadata": {
    "slideshow": {
     "slide_type": "slide"
    }
   },
   "source": [
    "## LDA - background\n",
    "\n",
    "How is this even possible?\n",
    "\n",
    "A simple way to convert documents to vectors\n",
    "- Preprocess data, e.g. removing: . , ! ?\n",
    "- Count instances of different words\n",
    "- Data structure in matrix form:\n",
    "  - Documents are rows\n",
    "  - Columns count instances of trimmed words, e.g. *evaluat*"
   ]
  },
  {
   "cell_type": "markdown",
   "id": "f638a5c8",
   "metadata": {
    "slideshow": {
     "slide_type": "slide"
    }
   },
   "source": [
    "## LDA - mechanics\n",
    "\n",
    "Works as follows. Remind you of other model?"
   ]
  },
  {
   "cell_type": "markdown",
   "id": "1a978111",
   "metadata": {
    "slideshow": {
     "slide_type": "slide"
    }
   },
   "source": [
    "## LDA - mechanics\n",
    "\n",
    "We will not go deep with this. Basic intuition:\n",
    "- Assume words are generated from latent components, each component has word frequency\n",
    "- Estimating relies on assuming Diriclet distribution and iterative optimizing\n",
    "  - Check out [this blogpost](https://towardsdatascience.com/light-on-math-machine-learning-intuitive-guide-to-latent-dirichlet-allocation-437c81220158) with an intuitive explaination"
   ]
  },
  {
   "cell_type": "markdown",
   "id": "8b587fa6",
   "metadata": {
    "slideshow": {
     "slide_type": "slide"
    }
   },
   "source": [
    "## LDA - example application\n",
    "\n",
    "[Shiller (2017)](https://doi.org/10.1257/aer.107.4.967) use the method to investigate economic narratives\n",
    "\n",
    "- Use it to define around ten core economic narratives\n",
    "  - e.g. economic crises and housing boom/bust"
   ]
  },
  {
   "cell_type": "markdown",
   "id": "33597b00",
   "metadata": {
    "slideshow": {
     "slide_type": "slide"
    }
   },
   "source": [
    "## LDA - example application\n",
    "\n",
    "So how can this be used in economic research?\n",
    "\n",
    "- [Hansen, McMahon, & Prat (2018)](https://doi.org/10.1093/qje/qjx045) investigates whether minutes from central bank meetings should be public. This is the \"transparency effect\".\n",
    "- Two hypotheses:\n",
    "  - Negative: Strategic career concerns of public leads to more conformism and officials will not be aggresive enough\n",
    "  - Positive: Discplinating effect due to accountability\n",
    "- Approach: \n",
    "  - Investigate meeting minutes - who speaks about what\n",
    "  - Combine natural experiment with computational linguistics\n",
    "- Evidence for both effects but disciplining effect dominates\n",
    "   "
   ]
  },
  {
   "cell_type": "markdown",
   "id": "80651992",
   "metadata": {
    "slideshow": {
     "slide_type": "slide"
    }
   },
   "source": [
    "## Non-linear dimensionality reduction\n",
    "\n",
    "Much progress e.g. t-SNE: use pairwise distance between observations in features to create low dimensional map using Kullbeck-Leibler divergence. Example MNIST:\n",
    "<center><img src='https://live.staticflickr.com/4524/26620503329_568554752f_b.jpg' alt=\"Drawing\" style=\"width: 450px;\"/></center>\n",
    "\n",
    "(By [Kyle McDonald](https://www.flickr.com/photos/kylemcdonald/), licensed under CC-BY-2.0)"
   ]
  },
  {
   "cell_type": "markdown",
   "id": "acbade55",
   "metadata": {
    "slideshow": {
     "slide_type": "slide"
    }
   },
   "source": [
    "# Clustering techniques"
   ]
  },
  {
   "cell_type": "markdown",
   "id": "32cee878",
   "metadata": {
    "slideshow": {
     "slide_type": "slide"
    }
   },
   "source": [
    "## K-means\n",
    "Fix cluster count K and inialize initial centroids/means $\\mu_1,..,\\mu_K\\in \\mathbb{R}_d$.\n",
    "\n",
    "Iteratively update the centroids as follows:\n",
    "\n",
    "1. Let each observation $i$ to centroid $j\\in\\{1,..,K\\}$ that minimizes Euclidian distance between $x_i$ and cluster $j$. Denote this by $w_{ij}=1$; otherwise $w_{ij}=0$.\n",
    "  - Corresponds to minizing $SSE=\\sum_{i=1}^{n}\\sum_{j=1}^{K}w_{ij}(x_i-\\mu_j)^2$\n",
    "2. Update the position of centroids as the mean of its members.\n",
    " "
   ]
  },
  {
   "cell_type": "markdown",
   "id": "cc7e0a88",
   "metadata": {
    "slideshow": {
     "slide_type": "slide"
    }
   },
   "source": [
    "## DBSCAN\n",
    "Another algorithm that works by setting a **distance threshold** (aka radius) $\\varepsilon$ and **MinPts**.\n",
    "- Very useful - look for patterns in registry data at date level, such as health visits\n",
    "- I have used method in research on human mobility: identify stop locations of where people are for longer time [(Cuttone et al., 2014)](https://doi.org/10.1145/2638728.2641283)\n",
    "- Note: could be applied after using non-linear projection, e.g. on MNIST data\n"
   ]
  },
  {
   "cell_type": "markdown",
   "id": "f3ed0505",
   "metadata": {
    "slideshow": {
     "slide_type": "slide"
    }
   },
   "source": [
    "## DBSCAN\n",
    "Another algorithm that works by setting a **distance threshold** (aka radius) \n",
    "Before algorithm is run, each point sample point as categorized as one of three: \n",
    "- **Core** point if at least a specified number (**MinPts**) of neighboring points fall within the specified radius $\\varepsilon$\n",
    "- A **border** point is a point that has fewer neighbors than **MinPts** within $\\varepsilon$,  but lies within the $\\varepsilon$ radius of a core point\n",
    "- All other points that are neither core nor border points are considered **noise** points"
   ]
  },
  {
   "cell_type": "markdown",
   "id": "483b32f3",
   "metadata": {
    "slideshow": {
     "slide_type": "slide"
    }
   },
   "source": [
    "## DBSCAN\n",
    "The categorization can be depicted as follows:\n",
    "<center><img src='fig/DBSCAN/DBSCAN_raschka.png' alt=\"Drawing\" style=\"width: 500px;\"/></center>\n",
    "\n",
    "(Image from [Raschka & Mirjalili, 2017](https://github.com/rasbt/python-machine-learning-book-2nd-edition))"
   ]
  },
  {
   "cell_type": "markdown",
   "id": "349518d0",
   "metadata": {
    "slideshow": {
     "slide_type": "slide"
    }
   },
   "source": [
    "## DBSCAN\n",
    "\n",
    "With categorization of points, DBSCAN proceeds in the following procedure:\n",
    "1. Form a separate cluster for each core point or ***connected*** group of core points (core points are connected if they are no farther away than $\\varepsilon$ ).\n",
    "2. Assign each border point to the cluster of its corresponding core point.\n",
    "\n",
    "Note - border points may have overlapping clusters. "
   ]
  },
  {
   "cell_type": "markdown",
   "id": "654033d7",
   "metadata": {
    "slideshow": {
     "slide_type": "slide"
    }
   },
   "source": [
    "## Conclusion - unsupervised\n",
    "\n",
    "New and very powerful unsupervised methods to work with data:\n",
    "- Auto-encoders to represent data unsupervised using neural networks\n",
    "- Development of GPT-3, BERT which can generate human-level text in many subjects (although no understanding of what it writes about) \n",
    "- Similar tools could come for computer vision soon\n",
    "\n",
    "Example of application\n",
    "- Bjerre-Nielsen and others: apply to registry data to reduce complex life trajectories"
   ]
  },
  {
   "cell_type": "markdown",
   "id": "0b4bc529",
   "metadata": {
    "slideshow": {
     "slide_type": "slide"
    }
   },
   "source": [
    "## Conclusion - unsupervised\n",
    "\n",
    "Emerging literature on text as data. Many other economic applications of text data\n",
    "- Great overview in paper [\"Text as Data\"](https://doi.org/10.1257/jel.20181020) \n",
    "- Macroeconomic research is having a new quantiative branch\n",
    "  - [Effects on FOMC minutes on interest rate](https://doi.org/10.1016/j.jinteco.2015.12.008)\n",
    "  - Measuring sentiment implicitly from text, e.g. from [economic news](https://doi.org/10.1016/j.jeconom.2020.07.053), rather than using surveys\n",
    "- Micreconomics\n",
    "  - Political speech: [measuring polarization through choice of words in speech](https://doi.org/10.3982/ECTA16566)\n",
    "  - Coordination in games? Applications in economic experiments?"
   ]
  },
  {
   "cell_type": "markdown",
   "id": "1e3b73d1",
   "metadata": {
    "slideshow": {
     "slide_type": "slide"
    }
   },
   "source": [
    "# Algorithmic audits"
   ]
  },
  {
   "cell_type": "markdown",
   "id": "eeff058a",
   "metadata": {
    "slideshow": {
     "slide_type": "slide"
    }
   },
   "source": [
    "## Motivation\n",
    "\n",
    "Some deep questions about applying algorithms:\n",
    "- Are algorithms more or less fair than humans?\n",
    "- How can we hold the designers and implementers accountable?\n",
    "- How should we regulate algorithms?\n",
    "  - What input data should they be allowed to use?\n",
    "  - What targets should they be allowed to use?\n",
    "  \n"
   ]
  },
  {
   "cell_type": "markdown",
   "id": "2945514e",
   "metadata": {
    "slideshow": {
     "slide_type": "slide"
    }
   },
   "source": [
    "## Motivation\n",
    "\n",
    "When presented with the same information we react different\n",
    "- Example: judges react different to identical evidence ([Austin and Williams, 1977](https://doi.org/10.2307/1142852))\n",
    "  - Extreme differences in decision on crime penalty\n"
   ]
  },
  {
   "cell_type": "markdown",
   "id": "6b244a5c",
   "metadata": {
    "slideshow": {
     "slide_type": "slide"
    }
   },
   "source": [
    "## Motivation\n",
    "\n",
    "Problem, part of these differences comes from large bias for selecting Caucasian applicants\n",
    "\n",
    "Evidence from resume audit studies: \n",
    "- Sending out resumes, keeping job resumes fixed [(Bertrand & Mullainathan, 2004)](https://doi.org/10.1257/0002828042002561)\n",
    "  - Including resumes explicitly controls for \"statistical discrimation\" story \n",
    "  - Also hold for in-person audits [(Pager et al., 2009)](doi/10.1177/000312240907400505)\n",
    "- How does this relate to bias in algorithms? Parts of discrimation may be merit."
   ]
  },
  {
   "cell_type": "markdown",
   "id": "99868b3e",
   "metadata": {},
   "source": [
    "## Motivation\n",
    "Can we use algorithms to automate decision?\n",
    "- Could have identical decisions given identical evidence. **Problems?**"
   ]
  },
  {
   "cell_type": "markdown",
   "id": "e36310ee",
   "metadata": {
    "slideshow": {
     "slide_type": "slide"
    }
   },
   "source": [
    "## Motivation\n",
    "Can we use algorithms to automate decision?\n",
    "- Could have identical decisions given identical evidence. **Problems?**"
   ]
  },
  {
   "cell_type": "markdown",
   "id": "13f68ff9",
   "metadata": {
    "slideshow": {
     "slide_type": "fragment"
    }
   },
   "source": [
    "We may require that our algorithm fulfills basic properties: \n",
    "- 1) fairness/ethical, 2) transparency/accountability\n",
    "- Often known under the acronym FATE"
   ]
  },
  {
   "cell_type": "markdown",
   "id": "d523515e",
   "metadata": {
    "slideshow": {
     "slide_type": "slide"
    }
   },
   "source": [
    "## Motivation\n",
    "A great case for the value of applying algorithm is [Kleinberg et al. (2018, QJE)](https://doi.org/10.1093/qje/qjx032):\n",
    "- Study problem of bail decision (10 mill. annually in US): to relase or to jail \n",
    "  - only pure prediction problem - risk of new crime or fleeing trial\n",
    "  - Overcomes problem of counterfactual policy evaluation - exploit quasi-random assignment\n",
    "- Problem in essence: who to jail and not using available data\n",
    "- Show that machines vastly outperform humans in most decisions, even when accouting for unobserved data\n",
    "  - E.g. most risky are jailed as much as they should, but least risky are"
   ]
  },
  {
   "cell_type": "markdown",
   "id": "d639311a",
   "metadata": {
    "slideshow": {
     "slide_type": "slide"
    }
   },
   "source": [
    "# Transparency"
   ]
  },
  {
   "cell_type": "markdown",
   "id": "e3395aa4",
   "metadata": {
    "slideshow": {
     "slide_type": "slide"
    }
   },
   "source": [
    "## Transparency - background\n",
    "\n",
    "\n",
    "\n",
    "Algorithms may become *black boxes*: they make great predictions, but we don't know how..\n",
    "- We have seen complex supervised models can outperform simpler (e.g. linear, tree)\n",
    "- Lack of transparency is in particular counter against for public administration\n",
    "  - May make it impossible for accountability \n",
    "  - E.g. to hide manipulation and corruption\n",
    "  "
   ]
  },
  {
   "cell_type": "markdown",
   "id": "ef26e0a4",
   "metadata": {
    "slideshow": {
     "slide_type": "slide"
    }
   },
   "source": [
    "## Transparency - solutions\n",
    "\n",
    "Transparency can be addressed in a number of ways\n",
    "- Surrogate modelling - fit a simple and explainable model on predictions of complex model\n",
    "  - Can be done globally/locally (kernel regression)\n",
    "  - Can interpret decision of the complex model \n",
    "  - Problem - may miss important non-linearities\n",
    "- Model agnostic approaches:\n",
    "  - ICE: individual conditional expectation \n",
    "  - SHAP: use the shapley value - features evaluated as agents in cooperative game theory - contribution to prediction [(Lundberg and Lee, 2017)](https://papers.nips.cc/paper/2017/hash/8a20a8621978632d76c43dfd28b67767-Abstract.html)"
   ]
  },
  {
   "cell_type": "markdown",
   "id": "52ead233",
   "metadata": {
    "slideshow": {
     "slide_type": "slide"
    }
   },
   "source": [
    "# Fairness"
   ]
  },
  {
   "cell_type": "markdown",
   "id": "1669fc3b",
   "metadata": {
    "slideshow": {
     "slide_type": "slide"
    }
   },
   "source": [
    "## Motivation for fairness\n",
    "\n",
    "Hiding within algorithms may also be systematic biases in predictions\n",
    "- e.g. by ethnicity, gender, socioeconomic groups\n",
    "- example of risk scores: recidivism, child abuse, school dropout, tax fraud, health\n",
    "\n",
    "If algorithms have negative consequences, then ethical concerns of application"
   ]
  },
  {
   "cell_type": "markdown",
   "id": "20997bba",
   "metadata": {
    "slideshow": {
     "slide_type": "slide"
    }
   },
   "source": [
    "## Fairness motivation\n",
    "\n",
    "In 2016 a couple of [journalists at ProPublica audited models for predicting recidivism called COMPAS](https://www.propublica.org/article/machine-bias-risk-assessments-in-criminal-sentencing): \n",
    "- Found for COMPAS that among defendants who *did not commit future crime* predicted risk varied by ethnicity:\n",
    "  - African-American had higher predicted risk score than Caucasian\n",
    " \n",
    "- Study caused huge controversy"
   ]
  },
  {
   "cell_type": "markdown",
   "id": "c7a9b36c",
   "metadata": {
    "slideshow": {
     "slide_type": "slide"
    }
   },
   "source": [
    "## Fairness motivation\n",
    "\n",
    "Even unsupervised algorithms in basic tech may be susceptible to bias:\n",
    "- Natural language processing systems may be biased in understanding of gender roles: women are homemakers, men are computer programmers [(Bolukbasi et al., 2017)](https://papers.nips.cc/paper/6228-man-is-to-computer-programmer-as-woman-is-to-homemaker-debiasing-word-embeddings.pdf)\n",
    "- Facial recognition make more mistakes against women and African-American [(Boulamwani & Gebru, 2018)](https://proceedings.mlr.press/v81/buolamwini18a/buolamwini18a.pdf)\n",
    "  - Critical in medicine and usability of technology\n",
    "  - Underlying problem: sample contained mostly male Caucasian people"
   ]
  },
  {
   "cell_type": "markdown",
   "id": "1c85b392",
   "metadata": {
    "slideshow": {
     "slide_type": "slide"
    }
   },
   "source": [
    "## Fairness criterions\n",
    "\n",
    "**Statistical parity**\n",
    "\n",
    "Satisifed if marginal likelihood of the predicted classes are constant across protected group categories, $G$. \n",
    "<br>\n",
    "\n",
    "$$\\mathbb{P}[Y=1|G=b]=\\mathbb{P}[Y=1|G=w]$$\n",
    "- Example: men vs. women / black vs. white have same dropout ratio in school, likelihood of committing crime (depending on target)\n",
    "- Consequences: In criminal context, may jail women who pose little or no public safety risk so that the same proportions of men and women are released on probation.\n",
    "- Can we decompose into   more sensible alternatives?"
   ]
  },
  {
   "cell_type": "markdown",
   "id": "74e909a1",
   "metadata": {
    "slideshow": {
     "slide_type": "slide"
    }
   },
   "source": [
    "## Fairness criterions\n",
    "\n",
    "**Well calibrated**\n",
    "\n",
    "- Like statistical parity, but conditional on risk score:\n",
    "<br>\n",
    "\n",
    "$$\\mathbb{P}[Y=y|S=s,G=a]=\\mathbb{P}[Y=y|S=s,G=b],\\quad\\forall a,b\\in \\mathcal{G}$$\n",
    "\n",
    "- [Chouldechova (2016)](https://arxiv.org/pdf/1610.07524.pdf) shows COMPAS satifies calibration.\n",
    "\n",
    "<center><img src='fig/fairness/COMPAS_predict_calibration.png' alt=\"Drawing\" style=\"width: 600px;\"/></center>\n"
   ]
  },
  {
   "cell_type": "markdown",
   "id": "7b952f0a",
   "metadata": {
    "slideshow": {
     "slide_type": "slide"
    }
   },
   "source": [
    "## Fairness criterions\n",
    "\n",
    "**Equalized odds**\n",
    "\n",
    "Inverse of well-calibrated - score condition on outcome\n",
    "<br>\n",
    "\n",
    "$$\\mathbb{P}[S=s|Y=y,G=a]=\\mathbb{P}[S=s|Y=y,G=b],\\quad\\forall a,b\\in \\mathcal{G}$$\n",
    "\n",
    "- [Chouldechova (2016)](https://arxiv.org/pdf/1610.07524.pdf) shows COMPAS does not satify equalized odds.\n",
    "\n",
    "<center><img src='fig/fairness/COMPAS_predict_equalized_odds.png' alt=\"Drawing\" style=\"width: 500px;\"/></center>\n"
   ]
  },
  {
   "cell_type": "markdown",
   "id": "21325336",
   "metadata": {
    "slideshow": {
     "slide_type": "slide"
    }
   },
   "source": [
    "## Fairness criterions\n",
    "\n",
    "The equalized odds issue can be dealt with algorithmically to debias the predictions. \n",
    "\n",
    "- [Zafar et al. (2015)](https://arxiv.org/pdf/1507.05259.pdf) outlines how fixing corresponds to optimization under constraints\n",
    "- [Hardt et al. (2016)](https://arxiv.org/abs/1610.02413) demonstrates how to achieve equalized odds in prediction\n",
    "\n",
    "- What problems could arise? \n",
    "  - Issue: may not be blind to using proxies of protected group\n",
    "  - Deeper issues?"
   ]
  },
  {
   "cell_type": "markdown",
   "id": "8326d522",
   "metadata": {
    "slideshow": {
     "slide_type": "slide"
    }
   },
   "source": [
    "## Fairness criterions\n",
    "\n",
    "The two criteria are in fact compatible [(Kleinberg, Mullainathan & Raghavan, 2016)](https://arxiv.org/pdf/1609.05807.pdf) only if base rates are the same (e.g. men and women are equally likely to commit crime)\n",
    "\n",
    "- Consequence: fixing equalized odds will cause problems with calibration\n",
    "\n",
    "- Why? Basic application of Bayes theorem.\n",
    "\n",
    "- Holds even for weaker version of Equalized Odds [(Kleinberg et al., 2017)](https://arxiv.org/pdf/1709.02012.pdf)"
   ]
  },
  {
   "cell_type": "markdown",
   "id": "f77ecd24",
   "metadata": {
    "slideshow": {
     "slide_type": "slide"
    }
   },
   "source": [
    "## Fairness and welfare\n",
    "\n",
    "[Kleinberg et al. (2018)](https://doi.org/10.1257/pandp.20181018) presents a broader view of algorithms\n",
    "- Study \"selection problem\" - which candidates to select from group\n",
    "- We can separate prediction from utility/welfare\n",
    "  - Efficiency/merit: preferences for lower predicted outcome, e.g. risk of school dropout or recidivism\n",
    "  - Equity/diversity: preferences for less extreme sociodemographic distribution\n",
    "- Example: who to admit at a school\n",
    "  - Diversity can help us set quotas by sociodemographic groups, merit choose who within groups to admit"
   ]
  },
  {
   "cell_type": "markdown",
   "id": "badaa70b",
   "metadata": {
    "slideshow": {
     "slide_type": "slide"
    }
   },
   "source": [
    "## Fairness in welfare\n",
    "\n",
    "[Kleinberg et al. (2018)](https://doi.org/10.1257/pandp.20181018) shows that debiasing algoirithms can lower efficiency for constant equity - see tradeoff in Pareto frontier:\n",
    "\n",
    "<center><img src='fig/fairness/COMPAS_blinding.png' alt=\"Drawing\" style=\"width: 500px;\"/></center>"
   ]
  },
  {
   "cell_type": "markdown",
   "id": "ac8f8783",
   "metadata": {
    "slideshow": {
     "slide_type": "slide"
    }
   },
   "source": [
    "## Fairness and econometrics\n",
    "\n",
    "What data should algorithms be allowed to use:\n",
    "\n",
    "- [Rambachan and Roth (2019)](https://arxiv.org/abs/1909.08518) - investigates, \"bias in, bias out\" hypothesis that algorithms trained on biased human decision data will be biased\n",
    "  - Find that bias human decision will be reversed by algorithms \n",
    "  - Needs a few assumptions: unobserved information for human selecting; discrimination in choices\n",
    "- [Rambachan et al. (2020)](https://doi.org/10.1257/pandp.20201036) argues that choice of target is key measurement error problems\n",
    "  - Using proxy target instead of true target may create problems\n",
    "    - E.g. health costs of treatment vs. health condition \n",
    "    - Imbalance between private incentives and social good\n",
    " \n",
    "\n"
   ]
  }
 ],
 "metadata": {
  "celltoolbar": "Slideshow",
  "kernelspec": {
   "display_name": "Python 3",
   "language": "python",
   "name": "python3"
  },
  "language_info": {
   "codemirror_mode": {
    "name": "ipython",
    "version": 3
   },
   "file_extension": ".py",
   "mimetype": "text/x-python",
   "name": "python",
   "nbconvert_exporter": "python",
   "pygments_lexer": "ipython3",
   "version": "3.8.8"
  }
 },
 "nbformat": 4,
 "nbformat_minor": 5
}
