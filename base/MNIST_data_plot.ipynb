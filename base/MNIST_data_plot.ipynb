{
 "cells": [
  {
   "cell_type": "markdown",
   "metadata": {},
   "source": [
    "This notebook loads MNIST data into numpy and plots digits\n",
    "\n",
    "Code amended from https://github.com/hsjeong5/MNIST-for-Numpy"
   ]
  },
  {
   "cell_type": "code",
   "execution_count": 2,
   "metadata": {},
   "outputs": [],
   "source": [
    "import gzip\n",
    "import os\n",
    "import pickle\n",
    "from urllib import request\n",
    "\n",
    "import numpy as np\n"
   ]
  },
  {
   "cell_type": "markdown",
   "metadata": {},
   "source": [
    "Save current working directory and set directories"
   ]
  },
  {
   "cell_type": "code",
   "execution_count": 3,
   "metadata": {},
   "outputs": [],
   "source": [
    "base_path = 'data/MNIST'\n",
    "\n",
    "cwd = os.getcwd()\n",
    "os.chdir('../base')"
   ]
  },
  {
   "cell_type": "markdown",
   "metadata": {},
   "source": [
    "Download and structure data"
   ]
  },
  {
   "cell_type": "code",
   "execution_count": 4,
   "metadata": {},
   "outputs": [
    {
     "name": "stdout",
     "output_type": "stream",
     "text": [
      "Save complete.\n"
     ]
    }
   ],
   "source": [
    "filename = [\n",
    "[\"training_images\",\"train-images-idx3-ubyte.gz\"],\n",
    "[\"test_images\",\"t10k-images-idx3-ubyte.gz\"],\n",
    "[\"training_labels\",\"train-labels-idx1-ubyte.gz\"],\n",
    "[\"test_labels\",\"t10k-labels-idx1-ubyte.gz\"]\n",
    "]\n",
    "\n",
    "\n",
    "\n",
    "\n",
    "def download_mnist():\n",
    "    base_url = \"https://ossci-datasets.s3.amazonaws.com/mnist/\"\n",
    "    for name in filename:        \n",
    "        url = base_url+name[1]\n",
    "        outfile = f'{base_path}/{name[1]}'\n",
    "        if not os.path.exists(outfile):\n",
    "            print(\"Downloading \"+name[1]+\"...\")\n",
    "            request.urlretrieve(url, outfile)\n",
    "\n",
    "def save_mnist():\n",
    "    mnist = {}\n",
    "    for name in filename[:2]:\n",
    "        with gzip.open(f'{base_path}/{name[1]}', 'rb') as f:\n",
    "            mnist[name[0]] = np.frombuffer(f.read(), np.uint8, offset=16).reshape(-1,28*28)\n",
    "    for name in filename[-2:]:\n",
    "        with gzip.open(f'{base_path}/{name[1]}', 'rb') as f:\n",
    "            mnist[name[0]] = np.frombuffer(f.read(), np.uint8, offset=8)\n",
    "    with open(f\"{base_path}/mnist.pkl\", 'wb') as f:\n",
    "        pickle.dump(mnist,f)\n",
    "    print(\"Save complete.\")\n",
    "\n",
    "os.makedirs(base_path, exist_ok=True)\n",
    "\n",
    "download_mnist()\n",
    "save_mnist()\n",
    "\n",
    "with open(f\"../base/data/mnist/mnist.pkl\",'rb') as f:\n",
    "    mnist = pickle.load(f)\n",
    "X_train,y_train,X_test,y_test = \\\n",
    "    mnist[\"training_images\"], mnist[\"training_labels\"], mnist[\"test_images\"], mnist[\"test_labels\"]\n",
    "\n",
    "\n",
    "\n"
   ]
  },
  {
   "cell_type": "markdown",
   "metadata": {},
   "source": [
    "Create plot"
   ]
  },
  {
   "cell_type": "code",
   "execution_count": 7,
   "metadata": {},
   "outputs": [
    {
     "data": {
      "image/png": "[encoded data removed]",
      "text/plain": [
       "<Figure size 468x468 with 9 Axes>"
      ]
     },
     "metadata": {
      "needs_background": "light"
     },
     "output_type": "display_data"
    }
   ],
   "source": [
    "from matplotlib import pyplot as plt\n",
    "\n",
    "outfile_digit = 'fig/mnist/digits.png'\n",
    "\n",
    "if not os.path.exists(outfile_digit):\n",
    "    f, ax = plt.subplots(3,3,figsize=(6.5, 6.5)) \n",
    "    for i in range(9):  \n",
    "        ax_ = ax[i//3][i%3]    \n",
    "        digit = X_train[y_train==i+1][0].reshape(28,28)\n",
    "        ax_.imshow(digit, cmap=plt.get_cmap('gray'))\n",
    "        if i//3<2:\n",
    "            ax_.get_xaxis().set_visible(False)\n",
    "        else:\n",
    "            ax_.set_xticks([0,10,20])\n",
    "        if i%3>0:\n",
    "            ax_.get_yaxis().set_visible(False)\n",
    "        ax[2][1].set_xlabel('Horizontal pixel positions',size=14)\n",
    "        ax[1][0].set_ylabel('Vertical pixel positions',size=14)\n",
    "\n",
    "    f.savefig(outfile_digit, dpi=200)"
   ]
  },
  {
   "cell_type": "markdown",
   "metadata": {},
   "source": [
    "Change working dir back"
   ]
  },
  {
   "cell_type": "code",
   "execution_count": null,
   "metadata": {},
   "outputs": [],
   "source": [
    "os.chdir(cwd)"
   ]
  }
 ],
 "metadata": {
  "kernelspec": {
   "display_name": "Python 3",
   "language": "python",
   "name": "python3"
  },
  "language_info": {
   "codemirror_mode": {
    "name": "ipython",
    "version": 3
   },
   "file_extension": ".py",
   "mimetype": "text/x-python",
   "name": "python",
   "nbconvert_exporter": "python",
   "pygments_lexer": "ipython3",
   "version": "3.8.5"
  }
 },
 "nbformat": 4,
 "nbformat_minor": 4
}
