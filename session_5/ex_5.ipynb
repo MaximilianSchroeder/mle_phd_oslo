{
 "cells": [
  {
   "cell_type": "markdown",
   "metadata": {},
   "source": [
    "## Exercise set 5: causal forest\n",
    "\n",
    "In this exercise set we will be working with the `econml` package to estimate a causal forest.\n",
    "\n",
    "Another more general implementation is found in [generalized random forest](https://github.com/grf-labs/grf) by Athey et al. The package is written for the R programming language."
   ]
  },
  {
   "cell_type": "code",
   "execution_count": 1,
   "metadata": {},
   "outputs": [],
   "source": [
    "import matplotlib.pyplot as plt\n",
    "import numpy as np \n",
    "import pandas as pd \n",
    "import seaborn as sns\n",
    "\n",
    "from sklearn.datasets import make_classification\n",
    "\n",
    "sns.set(style='darkgrid')\n",
    "\n",
    "%matplotlib inline"
   ]
  },
  {
   "cell_type": "markdown",
   "metadata": {},
   "source": [
    "To highlight the usefulness of causal forest we will be working with synthetic data in this exercise. In particular we will synthetically add a treatment effect to a dataset in which there otherwise is none. Furthermore we will make this effect heterogeneous by adding noise, and by making it depend on a single continuous variable as well as a categorical variable. \n",
    "\n",
    ">**Ex. 5.1.0:** Use the code below to simulate data according to\n",
    "<br>\n",
    "<br>\n",
    "\\begin{align}\n",
    "T(X) &= \\frac{1}{1+e^{-X\\delta+U}} > 0.5 \\\\ \n",
    "\\tau(X) &=  \\frac{1}{1+e^{-\\gamma X_0}} \\\\\n",
    "Y(T=0) &= X\\beta + \\epsilon \\\\         \n",
    "Y(T=1) &= Y(0) + \\tau(X) \\\\ \n",
    "\\end{align}\n",
    "<br>\n",
    "where $\\epsilon, \\nu$ are simply noise terms distributed according to $\\mathcal{N}(0,1)$ and $\\beta,\\delta$ are `N_FEATURES` vector of random parameters. $\\gamma$ is a scalar parameter.\n"
   ]
  },
  {
   "cell_type": "code",
   "execution_count": 2,
   "metadata": {},
   "outputs": [],
   "source": [
    "N_SAMPLES = 10000\n",
    "N_FEATURES = 5\n",
    "GAMMA = 1.2\n",
    "BETA = np.random.RandomState(0).uniform(0,1, size = N_FEATURES)\n",
    "DELTA = np.random.RandomState(1).uniform(0,1, size = N_FEATURES)\n",
    "\n",
    "X = np.random.RandomState(2).normal(size = (N_SAMPLES, N_FEATURES))\n",
    "\n",
    "U = np.random.RandomState(3).normal(size = (N_SAMPLES))\n",
    "T = 1/(1+np.exp(-(U+X.dot(DELTA))))>.5\n",
    "\n",
    "       \n",
    "Y0 = X @ BETA + np.random.RandomState(5).normal(size = N_SAMPLES)\n",
    "tau = 10/(1 + np.exp(-GAMMA*X[:,0])) + np.random.normal(size = N_SAMPLES)\n",
    "Y1 = Y0 + tau\n",
    "y = Y0 + T*(Y1 - Y0)"
   ]
  },
  {
   "cell_type": "markdown",
   "metadata": {},
   "source": [
    "> **Ex. 5.1.1:** Create a two-subplot figure, and plot $Y(0)$ and $Y(1)$ in one subplot against $X_0$. Plot $\\tau(x)$ against $X_0$ in the other subplot. What do you see? Why do we observe $\\tau=0$ in many cases?"
   ]
  },
  {
   "cell_type": "code",
   "execution_count": 3,
   "metadata": {},
   "outputs": [],
   "source": [
    "# Your answer here"
   ]
  },
  {
   "cell_type": "markdown",
   "metadata": {},
   "source": [
    "> **Ex. 5.1.2:** Is there a selection problem? Plot for each dimension of $X$ the relationship with treatment assignment."
   ]
  },
  {
   "cell_type": "code",
   "execution_count": 70,
   "metadata": {},
   "outputs": [],
   "source": [
    "# Your answer here"
   ]
  },
  {
   "cell_type": "markdown",
   "metadata": {},
   "source": [
    ">**Ex.5.1.3:** Estimate a causal forest model using the `econml` package, and store the model in a new variable `cf`. \n",
    ">\n",
    "> To unconfound the treatment assignment, use the gradient boosted forest in the first \"double machine learning\" step. Then use the following line to create a dataframe of predicted treatment effects on the same data that you trained the model on. \n",
    ">> Hint: use the following setting \n",
    ">>```python\n",
    "discrete_treatment=True\n",
    "```"
   ]
  },
  {
   "cell_type": "code",
   "execution_count": 70,
   "metadata": {},
   "outputs": [],
   "source": [
    "# Your answer here"
   ]
  },
  {
   "cell_type": "markdown",
   "metadata": {},
   "source": [
    ">**Ex.5.1.4:** Plot a scatterplot of the estimated individual treatment effects against the simulated \"true\" ITE's `tau` that you produced in the beginning of this exercise set."
   ]
  },
  {
   "cell_type": "code",
   "execution_count": 70,
   "metadata": {},
   "outputs": [],
   "source": [
    "# Your answer here"
   ]
  }
 ],
 "metadata": {
  "kernelspec": {
   "display_name": "Python 3",
   "language": "python",
   "name": "python3"
  },
  "language_info": {
   "codemirror_mode": {
    "name": "ipython",
    "version": 3
   },
   "file_extension": ".py",
   "mimetype": "text/x-python",
   "name": "python",
   "nbconvert_exporter": "python",
   "pygments_lexer": "ipython3",
   "version": "3.8.8"
  }
 },
 "nbformat": 4,
 "nbformat_minor": 4
}
