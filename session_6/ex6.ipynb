{
 "cells": [
  {
   "cell_type": "markdown",
   "id": "b5a01e54",
   "metadata": {},
   "source": [
    "# Exercise Set 6: Double Machine Learning\n",
    "\n",
    "In this Exercise Set we will follow [Chernozhukov et al. (2018)](http://economics.mit.edu/files/12538). \n",
    "\n",
    "Replicate the empirical results of [Chernozhukov et al. (2018)](http://economics.mit.edu/files/12538) based on the 401K pension data. You should  implement your results using the `econml` package (or alternatively in `R` if you prefer that). "
   ]
  }
 ],
 "metadata": {
  "kernelspec": {
   "display_name": "Python 3",
   "language": "python",
   "name": "python3"
  },
  "language_info": {
   "codemirror_mode": {
    "name": "ipython",
    "version": 3
   },
   "file_extension": ".py",
   "mimetype": "text/x-python",
   "name": "python",
   "nbconvert_exporter": "python",
   "pygments_lexer": "ipython3",
   "version": "3.8.8"
  }
 },
 "nbformat": 4,
 "nbformat_minor": 5
}
